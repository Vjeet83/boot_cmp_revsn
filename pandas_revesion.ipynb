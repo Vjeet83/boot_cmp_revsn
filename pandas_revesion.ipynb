{
 "cells": [
  {
   "cell_type": "markdown",
   "id": "d5634fcc",
   "metadata": {},
   "source": [
    "salse performance Analysis:\n",
    "    problem statement Analyze the overall performance by calcylation the total revenue , avarage  profit  margin , and the number of units sold identtify the \n",
    "    top-selling product and categories Tasks :\n",
    "        calculate total recenue for eacj product and overall\n",
    "        calculate the average profit margin for each product\n",
    "        identify the top-spelling product and cartegories"
   ]
  },
  {
   "cell_type": "code",
   "execution_count": 1,
   "id": "a24df291",
   "metadata": {},
   "outputs": [],
   "source": [
    "import pandas as pd \n",
    "import numpy as np"
   ]
  },
  {
   "cell_type": "code",
   "execution_count": 2,
   "id": "cae6c36c",
   "metadata": {},
   "outputs": [],
   "source": [
    "df  = pd.read_csv(\"D:\\\\Downloadss\\\\sales_data.csv\")"
   ]
  },
  {
   "cell_type": "code",
   "execution_count": 4,
   "id": "4dd403ec",
   "metadata": {},
   "outputs": [
    {
     "data": {
      "text/html": [
       "<div>\n",
       "<style scoped>\n",
       "    .dataframe tbody tr th:only-of-type {\n",
       "        vertical-align: middle;\n",
       "    }\n",
       "\n",
       "    .dataframe tbody tr th {\n",
       "        vertical-align: top;\n",
       "    }\n",
       "\n",
       "    .dataframe thead th {\n",
       "        text-align: right;\n",
       "    }\n",
       "</style>\n",
       "<table border=\"1\" class=\"dataframe\">\n",
       "  <thead>\n",
       "    <tr style=\"text-align: right;\">\n",
       "      <th></th>\n",
       "      <th>Unnamed: 0</th>\n",
       "      <th>ProductID</th>\n",
       "      <th>QuantitySold</th>\n",
       "      <th>Price</th>\n",
       "      <th>Discount</th>\n",
       "      <th>Category</th>\n",
       "      <th>Supplier</th>\n",
       "      <th>Date</th>\n",
       "      <th>CustomerID</th>\n",
       "      <th>Country</th>\n",
       "      <th>Profit</th>\n",
       "    </tr>\n",
       "  </thead>\n",
       "  <tbody>\n",
       "    <tr>\n",
       "      <th>0</th>\n",
       "      <td>0</td>\n",
       "      <td>C</td>\n",
       "      <td>8</td>\n",
       "      <td>75.539471</td>\n",
       "      <td>0.064576</td>\n",
       "      <td>Toys</td>\n",
       "      <td>Supplier1</td>\n",
       "      <td>2022-01-01</td>\n",
       "      <td>1148</td>\n",
       "      <td>USA</td>\n",
       "      <td>20.835021</td>\n",
       "    </tr>\n",
       "    <tr>\n",
       "      <th>1</th>\n",
       "      <td>1</td>\n",
       "      <td>A</td>\n",
       "      <td>8</td>\n",
       "      <td>43.100482</td>\n",
       "      <td>0.142251</td>\n",
       "      <td>Toys</td>\n",
       "      <td>Supplier3</td>\n",
       "      <td>2022-01-02</td>\n",
       "      <td>1079</td>\n",
       "      <td>USA</td>\n",
       "      <td>11.003640</td>\n",
       "    </tr>\n",
       "    <tr>\n",
       "      <th>2</th>\n",
       "      <td>2</td>\n",
       "      <td>C</td>\n",
       "      <td>3</td>\n",
       "      <td>66.907525</td>\n",
       "      <td>0.198508</td>\n",
       "      <td>Clothing</td>\n",
       "      <td>Supplier2</td>\n",
       "      <td>2022-01-03</td>\n",
       "      <td>1885</td>\n",
       "      <td>Canada</td>\n",
       "      <td>6.896583</td>\n",
       "    </tr>\n",
       "    <tr>\n",
       "      <th>3</th>\n",
       "      <td>3</td>\n",
       "      <td>C</td>\n",
       "      <td>1</td>\n",
       "      <td>67.017674</td>\n",
       "      <td>0.071013</td>\n",
       "      <td>Home</td>\n",
       "      <td>Supplier3</td>\n",
       "      <td>2022-01-04</td>\n",
       "      <td>1212</td>\n",
       "      <td>USA</td>\n",
       "      <td>8.221993</td>\n",
       "    </tr>\n",
       "    <tr>\n",
       "      <th>4</th>\n",
       "      <td>4</td>\n",
       "      <td>A</td>\n",
       "      <td>8</td>\n",
       "      <td>58.219722</td>\n",
       "      <td>0.127749</td>\n",
       "      <td>Toys</td>\n",
       "      <td>Supplier3</td>\n",
       "      <td>2022-01-05</td>\n",
       "      <td>1202</td>\n",
       "      <td>UK</td>\n",
       "      <td>8.201146</td>\n",
       "    </tr>\n",
       "    <tr>\n",
       "      <th>...</th>\n",
       "      <td>...</td>\n",
       "      <td>...</td>\n",
       "      <td>...</td>\n",
       "      <td>...</td>\n",
       "      <td>...</td>\n",
       "      <td>...</td>\n",
       "      <td>...</td>\n",
       "      <td>...</td>\n",
       "      <td>...</td>\n",
       "      <td>...</td>\n",
       "      <td>...</td>\n",
       "    </tr>\n",
       "    <tr>\n",
       "      <th>95</th>\n",
       "      <td>95</td>\n",
       "      <td>A</td>\n",
       "      <td>7</td>\n",
       "      <td>25.254347</td>\n",
       "      <td>0.060585</td>\n",
       "      <td>Toys</td>\n",
       "      <td>Supplier2</td>\n",
       "      <td>2022-04-06</td>\n",
       "      <td>1216</td>\n",
       "      <td>Canada</td>\n",
       "      <td>26.637678</td>\n",
       "    </tr>\n",
       "    <tr>\n",
       "      <th>96</th>\n",
       "      <td>96</td>\n",
       "      <td>A</td>\n",
       "      <td>4</td>\n",
       "      <td>60.112114</td>\n",
       "      <td>0.146363</td>\n",
       "      <td>Toys</td>\n",
       "      <td>Supplier1</td>\n",
       "      <td>2022-04-07</td>\n",
       "      <td>1853</td>\n",
       "      <td>USA</td>\n",
       "      <td>25.426802</td>\n",
       "    </tr>\n",
       "    <tr>\n",
       "      <th>97</th>\n",
       "      <td>97</td>\n",
       "      <td>C</td>\n",
       "      <td>7</td>\n",
       "      <td>94.253930</td>\n",
       "      <td>0.053977</td>\n",
       "      <td>Electronics</td>\n",
       "      <td>Supplier1</td>\n",
       "      <td>2022-04-08</td>\n",
       "      <td>1826</td>\n",
       "      <td>Canada</td>\n",
       "      <td>11.447571</td>\n",
       "    </tr>\n",
       "    <tr>\n",
       "      <th>98</th>\n",
       "      <td>98</td>\n",
       "      <td>A</td>\n",
       "      <td>8</td>\n",
       "      <td>72.642682</td>\n",
       "      <td>0.137866</td>\n",
       "      <td>Electronics</td>\n",
       "      <td>Supplier1</td>\n",
       "      <td>2022-04-09</td>\n",
       "      <td>1794</td>\n",
       "      <td>USA</td>\n",
       "      <td>9.272190</td>\n",
       "    </tr>\n",
       "    <tr>\n",
       "      <th>99</th>\n",
       "      <td>99</td>\n",
       "      <td>A</td>\n",
       "      <td>1</td>\n",
       "      <td>61.305505</td>\n",
       "      <td>0.191035</td>\n",
       "      <td>Home</td>\n",
       "      <td>Supplier3</td>\n",
       "      <td>2022-04-10</td>\n",
       "      <td>1688</td>\n",
       "      <td>Canada</td>\n",
       "      <td>21.716080</td>\n",
       "    </tr>\n",
       "  </tbody>\n",
       "</table>\n",
       "<p>100 rows × 11 columns</p>\n",
       "</div>"
      ],
      "text/plain": [
       "    Unnamed: 0 ProductID  QuantitySold      Price  Discount     Category  \\\n",
       "0            0         C             8  75.539471  0.064576         Toys   \n",
       "1            1         A             8  43.100482  0.142251         Toys   \n",
       "2            2         C             3  66.907525  0.198508     Clothing   \n",
       "3            3         C             1  67.017674  0.071013         Home   \n",
       "4            4         A             8  58.219722  0.127749         Toys   \n",
       "..         ...       ...           ...        ...       ...          ...   \n",
       "95          95         A             7  25.254347  0.060585         Toys   \n",
       "96          96         A             4  60.112114  0.146363         Toys   \n",
       "97          97         C             7  94.253930  0.053977  Electronics   \n",
       "98          98         A             8  72.642682  0.137866  Electronics   \n",
       "99          99         A             1  61.305505  0.191035         Home   \n",
       "\n",
       "     Supplier        Date  CustomerID Country     Profit  \n",
       "0   Supplier1  2022-01-01        1148     USA  20.835021  \n",
       "1   Supplier3  2022-01-02        1079     USA  11.003640  \n",
       "2   Supplier2  2022-01-03        1885  Canada   6.896583  \n",
       "3   Supplier3  2022-01-04        1212     USA   8.221993  \n",
       "4   Supplier3  2022-01-05        1202      UK   8.201146  \n",
       "..        ...         ...         ...     ...        ...  \n",
       "95  Supplier2  2022-04-06        1216  Canada  26.637678  \n",
       "96  Supplier1  2022-04-07        1853     USA  25.426802  \n",
       "97  Supplier1  2022-04-08        1826  Canada  11.447571  \n",
       "98  Supplier1  2022-04-09        1794     USA   9.272190  \n",
       "99  Supplier3  2022-04-10        1688  Canada  21.716080  \n",
       "\n",
       "[100 rows x 11 columns]"
      ]
     },
     "execution_count": 4,
     "metadata": {},
     "output_type": "execute_result"
    }
   ],
   "source": [
    "df"
   ]
  },
  {
   "cell_type": "code",
   "execution_count": 5,
   "id": "733dc802",
   "metadata": {},
   "outputs": [
    {
     "data": {
      "text/plain": [
       "Unnamed: 0      0\n",
       "ProductID       0\n",
       "QuantitySold    0\n",
       "Price           0\n",
       "Discount        0\n",
       "Category        0\n",
       "Supplier        0\n",
       "Date            0\n",
       "CustomerID      0\n",
       "Country         0\n",
       "Profit          0\n",
       "dtype: int64"
      ]
     },
     "execution_count": 5,
     "metadata": {},
     "output_type": "execute_result"
    }
   ],
   "source": [
    "df.isnull().sum()"
   ]
  },
  {
   "cell_type": "code",
   "execution_count": 6,
   "id": "74dc6e8c",
   "metadata": {},
   "outputs": [
    {
     "data": {
      "text/html": [
       "<div>\n",
       "<style scoped>\n",
       "    .dataframe tbody tr th:only-of-type {\n",
       "        vertical-align: middle;\n",
       "    }\n",
       "\n",
       "    .dataframe tbody tr th {\n",
       "        vertical-align: top;\n",
       "    }\n",
       "\n",
       "    .dataframe thead th {\n",
       "        text-align: right;\n",
       "    }\n",
       "</style>\n",
       "<table border=\"1\" class=\"dataframe\">\n",
       "  <thead>\n",
       "    <tr style=\"text-align: right;\">\n",
       "      <th></th>\n",
       "      <th>Unnamed: 0</th>\n",
       "      <th>QuantitySold</th>\n",
       "      <th>Price</th>\n",
       "      <th>Discount</th>\n",
       "      <th>CustomerID</th>\n",
       "      <th>Profit</th>\n",
       "    </tr>\n",
       "  </thead>\n",
       "  <tbody>\n",
       "    <tr>\n",
       "      <th>count</th>\n",
       "      <td>100.000000</td>\n",
       "      <td>100.000000</td>\n",
       "      <td>100.000000</td>\n",
       "      <td>100.000000</td>\n",
       "      <td>100.000000</td>\n",
       "      <td>100.000000</td>\n",
       "    </tr>\n",
       "    <tr>\n",
       "      <th>mean</th>\n",
       "      <td>49.500000</td>\n",
       "      <td>4.900000</td>\n",
       "      <td>56.589035</td>\n",
       "      <td>0.122724</td>\n",
       "      <td>1500.460000</td>\n",
       "      <td>15.310921</td>\n",
       "    </tr>\n",
       "    <tr>\n",
       "      <th>std</th>\n",
       "      <td>29.011492</td>\n",
       "      <td>2.724746</td>\n",
       "      <td>26.429410</td>\n",
       "      <td>0.042624</td>\n",
       "      <td>298.567233</td>\n",
       "      <td>6.866115</td>\n",
       "    </tr>\n",
       "    <tr>\n",
       "      <th>min</th>\n",
       "      <td>0.000000</td>\n",
       "      <td>1.000000</td>\n",
       "      <td>10.455543</td>\n",
       "      <td>0.052159</td>\n",
       "      <td>1004.000000</td>\n",
       "      <td>5.501780</td>\n",
       "    </tr>\n",
       "    <tr>\n",
       "      <th>25%</th>\n",
       "      <td>24.750000</td>\n",
       "      <td>3.000000</td>\n",
       "      <td>32.900827</td>\n",
       "      <td>0.087442</td>\n",
       "      <td>1231.000000</td>\n",
       "      <td>9.327754</td>\n",
       "    </tr>\n",
       "    <tr>\n",
       "      <th>50%</th>\n",
       "      <td>49.500000</td>\n",
       "      <td>5.000000</td>\n",
       "      <td>60.629944</td>\n",
       "      <td>0.127597</td>\n",
       "      <td>1506.500000</td>\n",
       "      <td>14.091902</td>\n",
       "    </tr>\n",
       "    <tr>\n",
       "      <th>75%</th>\n",
       "      <td>74.250000</td>\n",
       "      <td>7.000000</td>\n",
       "      <td>75.950660</td>\n",
       "      <td>0.155417</td>\n",
       "      <td>1766.750000</td>\n",
       "      <td>20.731888</td>\n",
       "    </tr>\n",
       "    <tr>\n",
       "      <th>max</th>\n",
       "      <td>99.000000</td>\n",
       "      <td>9.000000</td>\n",
       "      <td>97.570950</td>\n",
       "      <td>0.198508</td>\n",
       "      <td>1971.000000</td>\n",
       "      <td>29.662881</td>\n",
       "    </tr>\n",
       "  </tbody>\n",
       "</table>\n",
       "</div>"
      ],
      "text/plain": [
       "       Unnamed: 0  QuantitySold       Price    Discount   CustomerID  \\\n",
       "count  100.000000    100.000000  100.000000  100.000000   100.000000   \n",
       "mean    49.500000      4.900000   56.589035    0.122724  1500.460000   \n",
       "std     29.011492      2.724746   26.429410    0.042624   298.567233   \n",
       "min      0.000000      1.000000   10.455543    0.052159  1004.000000   \n",
       "25%     24.750000      3.000000   32.900827    0.087442  1231.000000   \n",
       "50%     49.500000      5.000000   60.629944    0.127597  1506.500000   \n",
       "75%     74.250000      7.000000   75.950660    0.155417  1766.750000   \n",
       "max     99.000000      9.000000   97.570950    0.198508  1971.000000   \n",
       "\n",
       "           Profit  \n",
       "count  100.000000  \n",
       "mean    15.310921  \n",
       "std      6.866115  \n",
       "min      5.501780  \n",
       "25%      9.327754  \n",
       "50%     14.091902  \n",
       "75%     20.731888  \n",
       "max     29.662881  "
      ]
     },
     "execution_count": 6,
     "metadata": {},
     "output_type": "execute_result"
    }
   ],
   "source": [
    "df.describe()"
   ]
  },
  {
   "cell_type": "code",
   "execution_count": 8,
   "id": "46216b5b",
   "metadata": {},
   "outputs": [
    {
     "name": "stderr",
     "output_type": "stream",
     "text": [
      "C:\\Users\\Jarvis\\AppData\\Local\\Temp\\ipykernel_11204\\1134722465.py:1: FutureWarning: The default value of numeric_only in DataFrame.corr is deprecated. In a future version, it will default to False. Select only valid columns or specify the value of numeric_only to silence this warning.\n",
      "  df.corr()\n"
     ]
    },
    {
     "data": {
      "text/html": [
       "<div>\n",
       "<style scoped>\n",
       "    .dataframe tbody tr th:only-of-type {\n",
       "        vertical-align: middle;\n",
       "    }\n",
       "\n",
       "    .dataframe tbody tr th {\n",
       "        vertical-align: top;\n",
       "    }\n",
       "\n",
       "    .dataframe thead th {\n",
       "        text-align: right;\n",
       "    }\n",
       "</style>\n",
       "<table border=\"1\" class=\"dataframe\">\n",
       "  <thead>\n",
       "    <tr style=\"text-align: right;\">\n",
       "      <th></th>\n",
       "      <th>Unnamed: 0</th>\n",
       "      <th>QuantitySold</th>\n",
       "      <th>Price</th>\n",
       "      <th>Discount</th>\n",
       "      <th>CustomerID</th>\n",
       "      <th>Profit</th>\n",
       "    </tr>\n",
       "  </thead>\n",
       "  <tbody>\n",
       "    <tr>\n",
       "      <th>Unnamed: 0</th>\n",
       "      <td>1.000000</td>\n",
       "      <td>-0.143243</td>\n",
       "      <td>0.130132</td>\n",
       "      <td>-0.159404</td>\n",
       "      <td>0.081723</td>\n",
       "      <td>0.172451</td>\n",
       "    </tr>\n",
       "    <tr>\n",
       "      <th>QuantitySold</th>\n",
       "      <td>-0.143243</td>\n",
       "      <td>1.000000</td>\n",
       "      <td>-0.001824</td>\n",
       "      <td>-0.044419</td>\n",
       "      <td>0.053224</td>\n",
       "      <td>0.108056</td>\n",
       "    </tr>\n",
       "    <tr>\n",
       "      <th>Price</th>\n",
       "      <td>0.130132</td>\n",
       "      <td>-0.001824</td>\n",
       "      <td>1.000000</td>\n",
       "      <td>-0.242511</td>\n",
       "      <td>-0.088698</td>\n",
       "      <td>-0.241648</td>\n",
       "    </tr>\n",
       "    <tr>\n",
       "      <th>Discount</th>\n",
       "      <td>-0.159404</td>\n",
       "      <td>-0.044419</td>\n",
       "      <td>-0.242511</td>\n",
       "      <td>1.000000</td>\n",
       "      <td>-0.045925</td>\n",
       "      <td>-0.043934</td>\n",
       "    </tr>\n",
       "    <tr>\n",
       "      <th>CustomerID</th>\n",
       "      <td>0.081723</td>\n",
       "      <td>0.053224</td>\n",
       "      <td>-0.088698</td>\n",
       "      <td>-0.045925</td>\n",
       "      <td>1.000000</td>\n",
       "      <td>0.170419</td>\n",
       "    </tr>\n",
       "    <tr>\n",
       "      <th>Profit</th>\n",
       "      <td>0.172451</td>\n",
       "      <td>0.108056</td>\n",
       "      <td>-0.241648</td>\n",
       "      <td>-0.043934</td>\n",
       "      <td>0.170419</td>\n",
       "      <td>1.000000</td>\n",
       "    </tr>\n",
       "  </tbody>\n",
       "</table>\n",
       "</div>"
      ],
      "text/plain": [
       "              Unnamed: 0  QuantitySold     Price  Discount  CustomerID  \\\n",
       "Unnamed: 0      1.000000     -0.143243  0.130132 -0.159404    0.081723   \n",
       "QuantitySold   -0.143243      1.000000 -0.001824 -0.044419    0.053224   \n",
       "Price           0.130132     -0.001824  1.000000 -0.242511   -0.088698   \n",
       "Discount       -0.159404     -0.044419 -0.242511  1.000000   -0.045925   \n",
       "CustomerID      0.081723      0.053224 -0.088698 -0.045925    1.000000   \n",
       "Profit          0.172451      0.108056 -0.241648 -0.043934    0.170419   \n",
       "\n",
       "                Profit  \n",
       "Unnamed: 0    0.172451  \n",
       "QuantitySold  0.108056  \n",
       "Price        -0.241648  \n",
       "Discount     -0.043934  \n",
       "CustomerID    0.170419  \n",
       "Profit        1.000000  "
      ]
     },
     "execution_count": 8,
     "metadata": {},
     "output_type": "execute_result"
    }
   ],
   "source": [
    "df.corr()"
   ]
  },
  {
   "cell_type": "code",
   "execution_count": 9,
   "id": "ee590ab2",
   "metadata": {},
   "outputs": [
    {
     "data": {
      "text/html": [
       "<div>\n",
       "<style scoped>\n",
       "    .dataframe tbody tr th:only-of-type {\n",
       "        vertical-align: middle;\n",
       "    }\n",
       "\n",
       "    .dataframe tbody tr th {\n",
       "        vertical-align: top;\n",
       "    }\n",
       "\n",
       "    .dataframe thead th {\n",
       "        text-align: right;\n",
       "    }\n",
       "</style>\n",
       "<table border=\"1\" class=\"dataframe\">\n",
       "  <thead>\n",
       "    <tr style=\"text-align: right;\">\n",
       "      <th></th>\n",
       "      <th>Unnamed: 0</th>\n",
       "      <th>ProductID</th>\n",
       "      <th>QuantitySold</th>\n",
       "      <th>Price</th>\n",
       "      <th>Discount</th>\n",
       "      <th>Category</th>\n",
       "      <th>Supplier</th>\n",
       "      <th>Date</th>\n",
       "      <th>CustomerID</th>\n",
       "      <th>Country</th>\n",
       "      <th>Profit</th>\n",
       "    </tr>\n",
       "  </thead>\n",
       "  <tbody>\n",
       "    <tr>\n",
       "      <th>95</th>\n",
       "      <td>95</td>\n",
       "      <td>A</td>\n",
       "      <td>7</td>\n",
       "      <td>25.254347</td>\n",
       "      <td>0.060585</td>\n",
       "      <td>Toys</td>\n",
       "      <td>Supplier2</td>\n",
       "      <td>2022-04-06</td>\n",
       "      <td>1216</td>\n",
       "      <td>Canada</td>\n",
       "      <td>26.637678</td>\n",
       "    </tr>\n",
       "    <tr>\n",
       "      <th>96</th>\n",
       "      <td>96</td>\n",
       "      <td>A</td>\n",
       "      <td>4</td>\n",
       "      <td>60.112114</td>\n",
       "      <td>0.146363</td>\n",
       "      <td>Toys</td>\n",
       "      <td>Supplier1</td>\n",
       "      <td>2022-04-07</td>\n",
       "      <td>1853</td>\n",
       "      <td>USA</td>\n",
       "      <td>25.426802</td>\n",
       "    </tr>\n",
       "    <tr>\n",
       "      <th>97</th>\n",
       "      <td>97</td>\n",
       "      <td>C</td>\n",
       "      <td>7</td>\n",
       "      <td>94.253930</td>\n",
       "      <td>0.053977</td>\n",
       "      <td>Electronics</td>\n",
       "      <td>Supplier1</td>\n",
       "      <td>2022-04-08</td>\n",
       "      <td>1826</td>\n",
       "      <td>Canada</td>\n",
       "      <td>11.447571</td>\n",
       "    </tr>\n",
       "    <tr>\n",
       "      <th>98</th>\n",
       "      <td>98</td>\n",
       "      <td>A</td>\n",
       "      <td>8</td>\n",
       "      <td>72.642682</td>\n",
       "      <td>0.137866</td>\n",
       "      <td>Electronics</td>\n",
       "      <td>Supplier1</td>\n",
       "      <td>2022-04-09</td>\n",
       "      <td>1794</td>\n",
       "      <td>USA</td>\n",
       "      <td>9.272190</td>\n",
       "    </tr>\n",
       "    <tr>\n",
       "      <th>99</th>\n",
       "      <td>99</td>\n",
       "      <td>A</td>\n",
       "      <td>1</td>\n",
       "      <td>61.305505</td>\n",
       "      <td>0.191035</td>\n",
       "      <td>Home</td>\n",
       "      <td>Supplier3</td>\n",
       "      <td>2022-04-10</td>\n",
       "      <td>1688</td>\n",
       "      <td>Canada</td>\n",
       "      <td>21.716080</td>\n",
       "    </tr>\n",
       "  </tbody>\n",
       "</table>\n",
       "</div>"
      ],
      "text/plain": [
       "    Unnamed: 0 ProductID  QuantitySold      Price  Discount     Category  \\\n",
       "95          95         A             7  25.254347  0.060585         Toys   \n",
       "96          96         A             4  60.112114  0.146363         Toys   \n",
       "97          97         C             7  94.253930  0.053977  Electronics   \n",
       "98          98         A             8  72.642682  0.137866  Electronics   \n",
       "99          99         A             1  61.305505  0.191035         Home   \n",
       "\n",
       "     Supplier        Date  CustomerID Country     Profit  \n",
       "95  Supplier2  2022-04-06        1216  Canada  26.637678  \n",
       "96  Supplier1  2022-04-07        1853     USA  25.426802  \n",
       "97  Supplier1  2022-04-08        1826  Canada  11.447571  \n",
       "98  Supplier1  2022-04-09        1794     USA   9.272190  \n",
       "99  Supplier3  2022-04-10        1688  Canada  21.716080  "
      ]
     },
     "execution_count": 9,
     "metadata": {},
     "output_type": "execute_result"
    }
   ],
   "source": [
    "df.tail()"
   ]
  },
  {
   "cell_type": "code",
   "execution_count": 10,
   "id": "b693957f",
   "metadata": {},
   "outputs": [
    {
     "data": {
      "text/plain": [
       "(100, 11)"
      ]
     },
     "execution_count": 10,
     "metadata": {},
     "output_type": "execute_result"
    }
   ],
   "source": [
    "df.shape"
   ]
  },
  {
   "cell_type": "code",
   "execution_count": 12,
   "id": "825b8072",
   "metadata": {},
   "outputs": [],
   "source": [
    "df['ttl_rvnu']= df[\"QuantitySold\"]*df[\"Price\"]"
   ]
  },
  {
   "cell_type": "code",
   "execution_count": 13,
   "id": "6776d680",
   "metadata": {},
   "outputs": [
    {
     "data": {
      "text/plain": [
       "(100, 12)"
      ]
     },
     "execution_count": 13,
     "metadata": {},
     "output_type": "execute_result"
    }
   ],
   "source": [
    "df.shape"
   ]
  },
  {
   "cell_type": "code",
   "execution_count": 16,
   "id": "4b63dda1",
   "metadata": {},
   "outputs": [
    {
     "name": "stdout",
     "output_type": "stream",
     "text": [
      "27715.623757046287\n"
     ]
    }
   ],
   "source": [
    "# overall revenu = \n",
    "overall_revenue = sum(df['ttl_rvnu'])\n",
    "print(overall_revenue)"
   ]
  },
  {
   "cell_type": "code",
   "execution_count": 18,
   "id": "5ee5e049",
   "metadata": {},
   "outputs": [
    {
     "name": "stdout",
     "output_type": "stream",
     "text": [
      "ProductID\n",
      "A    8540.940987\n",
      "B    9239.251238\n",
      "C    9935.431533\n",
      "Name: ttl_rvnu, dtype: float64\n"
     ]
    }
   ],
   "source": [
    "# ttl revenu per product \n",
    "ttl_rvnu_pr_product = df.groupby('ProductID')['ttl_rvnu'].sum()\n",
    "print(ttl_rvnu_pr_product)"
   ]
  },
  {
   "cell_type": "code",
   "execution_count": null,
   "id": "a9cecd6b",
   "metadata": {},
   "outputs": [],
   "source": []
  },
  {
   "cell_type": "markdown",
   "id": "122fa380",
   "metadata": {},
   "source": [
    "### Calculate the average profit margin for each product\n"
   ]
  },
  {
   "cell_type": "code",
   "execution_count": 19,
   "id": "90db95af",
   "metadata": {},
   "outputs": [],
   "source": [
    "df[\"prft_mrgin\"]= (df['Profit']/df['ttl_rvnu'])*100\n"
   ]
  },
  {
   "cell_type": "code",
   "execution_count": 21,
   "id": "93448dc5",
   "metadata": {},
   "outputs": [
    {
     "data": {
      "text/plain": [
       "(100, 13)"
      ]
     },
     "execution_count": 21,
     "metadata": {},
     "output_type": "execute_result"
    }
   ],
   "source": [
    "df.shape"
   ]
  },
  {
   "cell_type": "code",
   "execution_count": 25,
   "id": "742b3e42",
   "metadata": {},
   "outputs": [
    {
     "name": "stdout",
     "output_type": "stream",
     "text": [
      "ProductID\n",
      "A    11.977012\n",
      "B    14.828616\n",
      "C    13.273612\n",
      "Name: prft_mrgin, dtype: float64\n"
     ]
    }
   ],
   "source": [
    "avrag_proft_margn_pp = df.groupby('ProductID')['prft_mrgin'].mean()\n",
    "print(avrag_proft_margn_pp)"
   ]
  },
  {
   "cell_type": "markdown",
   "id": "0fee262f",
   "metadata": {},
   "source": [
    "###  top-selling product and categories"
   ]
  },
  {
   "cell_type": "code",
   "execution_count": 28,
   "id": "1485a900",
   "metadata": {},
   "outputs": [
    {
     "name": "stdout",
     "output_type": "stream",
     "text": [
      "C\n"
     ]
    }
   ],
   "source": [
    "top_selling_pd = ttl_rvnu_pr_product.idxmax()\n",
    "print(top_selling_pd)"
   ]
  },
  {
   "cell_type": "code",
   "execution_count": 35,
   "id": "77b48ef7",
   "metadata": {},
   "outputs": [
    {
     "name": "stdout",
     "output_type": "stream",
     "text": [
      "Electronics\n"
     ]
    }
   ],
   "source": [
    "sl_catgr = df.groupby('Category')['ttl_rvnu'].sum()\n",
    "# print(sl_catgr)\n",
    "top_sl_cat = sl_catgr.idxmax()\n",
    "print(top_sl_cat)"
   ]
  },
  {
   "cell_type": "code",
   "execution_count": null,
   "id": "9415c143",
   "metadata": {},
   "outputs": [],
   "source": []
  }
 ],
 "metadata": {
  "kernelspec": {
   "display_name": "Python 3 (ipykernel)",
   "language": "python",
   "name": "python3"
  },
  "language_info": {
   "codemirror_mode": {
    "name": "ipython",
    "version": 3
   },
   "file_extension": ".py",
   "mimetype": "text/x-python",
   "name": "python",
   "nbconvert_exporter": "python",
   "pygments_lexer": "ipython3",
   "version": "3.10.9"
  }
 },
 "nbformat": 4,
 "nbformat_minor": 5
}
